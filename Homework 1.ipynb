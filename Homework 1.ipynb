{
 "cells": [
  {
   "cell_type": "markdown",
   "id": "3b379647-e62e-4d8e-bcb9-23555ef43705",
   "metadata": {},
   "source": [
    "# DS4200 Homework 1\n",
    "\n",
    "Due: Friday Sep 20th @ 11:59 PM EST\n",
    "\n",
    "### Submission Instructions\n",
    "Submit this `ipynb` file included with the coding results to Gradescope (this can also be done via the assignment on Canvas).  To ensure that your submitted files represent your latest code, make sure to give a fresh `Kernel > Restart & Run All` just before uploading the files to gradescope.\n",
    "\n",
    "### Tips for success\n",
    "- Start early\n",
    "- Make use of Piazza\n",
    "- Make use of Office hour\n",
    "- Remember to use cells and headings to make the notebook easy to read (if a grader cannot find the answer to a problem, you will receive no points for it)\n",
    "- Under no circumstances may one student view or share their ungraded homework or quiz with another student [(see also)](http://www.northeastern.edu/osccr/academic-integrity), though you are welcome to **talk about** (not show each other) the problems."
   ]
  },
  {
   "cell_type": "markdown",
   "id": "320fbc2a-852d-4fcf-99e5-10979eee1ec4",
   "metadata": {},
   "source": [
    "### Part 1 - Good or bad (30 points)"
   ]
  },
  {
   "cell_type": "markdown",
   "id": "1d8c7c65-31d1-4b54-a8f0-03ba29e576dc",
   "metadata": {},
   "source": [
    "For the following figures extracted from online sources. Write 2 or 3 sentences for each to argue whether it is a good or bad example of visualization. If it is a bad example, which design rules of thumbs or graphical integrity it may violated (if any) and how to re-design into a better one. \n",
    "\n",
    "##### Question 1 (6 pts)\n",
    "\n",
    "The figure shows the numbers of female and male passengers on the Titanic traveling in 1st, 2nd, and 3rd class, shown as a 3D stacked bar plot. \n",
    "\n",
    "<div style=\"text-align: center;\">\n",
    "<img src=\"https://i.ibb.co/njznJtt/hw1-1.png\" alt=\"hw1-1\" border=\"0\" width = 300>\n",
    "</div>"
   ]
  },
  {
   "cell_type": "markdown",
   "id": "d152606e-aef8-4fec-9b0a-426c64576b8a",
   "metadata": {},
   "source": [
    " "
   ]
  },
  {
   "cell_type": "markdown",
   "id": "c2c29b76-54fc-4a62-a6e0-cf707c5bc056",
   "metadata": {},
   "source": [
    "##### Question 2 (6 pts)\n",
    "\n",
    "The figure shows the dollars of billions in sales for large fast food company. It also tries to compare the sales number with the GDP of Afghanistan in the same year. \n",
    "\n",
    "<div style=\"text-align: center;\">\n",
    "<img src=\"https://i.ibb.co/fSthBTJ/hw1-2.jpg\" alt=\"hw1-2\" border=\"0\" border=\"0\" width = 400>\n",
    "</div>"
   ]
  },
  {
   "cell_type": "markdown",
   "id": "8335f490-f6fa-4f2b-8cff-9aa48fa5bdce",
   "metadata": {},
   "source": []
  },
  {
   "cell_type": "markdown",
   "id": "62cb73f9-c037-41c7-b4b1-777b816cca4e",
   "metadata": {},
   "source": [
    "##### Question 3 (6 pts)\n",
    "\n",
    "The figure is about the change of race proportions in the US from 1960 to 2060(estimated). \n",
    "\n",
    "<div style=\"text-align: center;\">\n",
    "<img src=\"https://i.ibb.co/5hf0hV6/hw1-3.png\" alt=\"hw1-3\" border=\"0\" width = 300>\n",
    "</div>"
   ]
  },
  {
   "cell_type": "markdown",
   "id": "253bce64-cba5-43a2-b23f-348c22bf70cf",
   "metadata": {},
   "source": []
  },
  {
   "cell_type": "markdown",
   "id": "8d7e6d57-718f-4574-a80f-428e0cbb3ef1",
   "metadata": {},
   "source": [
    "##### Question 4 (6 pts)\n",
    "\n",
    "This figure shows the company's 2019 sale by regions and categories of the products. The color indicates for different regions. \n",
    "\n",
    "<div style=\"text-align: center;\">\n",
    "<img src=\"https://i.ibb.co/tJKX7Mt/hw1-4.png\" alt=\"hw1-4\" border=\"0\" width = 400>\n",
    "</div>"
   ]
  },
  {
   "cell_type": "markdown",
   "id": "2a1c2177-8402-4751-b586-3c9ace4c7e2b",
   "metadata": {},
   "source": []
  },
  {
   "cell_type": "markdown",
   "id": "ab7ba5b6-5ab0-4113-91e4-810ab8809568",
   "metadata": {},
   "source": [
    "##### Question 5 (6 pts)\n",
    "\n",
    "<div style=\"text-align: center;\">\n",
    "<img src=\"https://i.ibb.co/7CSkGx4/hw1-5.png\" alt=\"hw1-5\" border=\"0\" width = 300>\n",
    "</div>"
   ]
  },
  {
   "cell_type": "markdown",
   "id": "7cfe6873-7f33-4bc7-905f-f440ebd7d4e2",
   "metadata": {},
   "source": []
  },
  {
   "cell_type": "markdown",
   "id": "88103fa4-b264-42ab-a9f7-01426d9e2dd0",
   "metadata": {},
   "source": [
    "### Part 2 - Summary on the data visualization choices (20 points)\n",
    "\n",
    "In the lecture, we have briefly decribed our potential choices for different types of attributes. To simplify the question, we only consider following cases:\n",
    "- one continous attribute\n",
    "- one categorical attribute\n",
    "- two continous attributes\n",
    "- two categorical attributes\n",
    "- one continous attribute and one categorical attribute\n",
    "\n",
    "On a paper, draw a picture (can be a flow chart, venn diagram, or anything you feel suitable) to visualize our potential choices (histogram, bar plot etc.) for these five cases."
   ]
  },
  {
   "cell_type": "markdown",
   "id": "43e058b3-f1a4-49a5-b0a5-4254d1eca4c1",
   "metadata": {},
   "source": []
  },
  {
   "cell_type": "markdown",
   "id": "19053952",
   "metadata": {},
   "source": [
    "### Part 3 - Basic data visualization with Python (50 points)\n",
    "\n",
    "Here is a dataset of Seattle weather in 4 years. Load the data and generate corresponding data visualizations. Make sure each figure has title, labels and legends if necessary. Add one or two sentences in each figure to talk about what you have learned from the figure. "
   ]
  },
  {
   "cell_type": "code",
   "execution_count": 1,
   "id": "4d7505a2",
   "metadata": {},
   "outputs": [
    {
     "data": {
      "text/html": [
       "<div>\n",
       "<style scoped>\n",
       "    .dataframe tbody tr th:only-of-type {\n",
       "        vertical-align: middle;\n",
       "    }\n",
       "\n",
       "    .dataframe tbody tr th {\n",
       "        vertical-align: top;\n",
       "    }\n",
       "\n",
       "    .dataframe thead th {\n",
       "        text-align: right;\n",
       "    }\n",
       "</style>\n",
       "<table border=\"1\" class=\"dataframe\">\n",
       "  <thead>\n",
       "    <tr style=\"text-align: right;\">\n",
       "      <th></th>\n",
       "      <th>date</th>\n",
       "      <th>precipitation</th>\n",
       "      <th>temp_max</th>\n",
       "      <th>temp_min</th>\n",
       "      <th>wind</th>\n",
       "      <th>weather</th>\n",
       "    </tr>\n",
       "  </thead>\n",
       "  <tbody>\n",
       "    <tr>\n",
       "      <th>0</th>\n",
       "      <td>2012-01-01</td>\n",
       "      <td>0.0</td>\n",
       "      <td>12.8</td>\n",
       "      <td>5.0</td>\n",
       "      <td>4.7</td>\n",
       "      <td>drizzle</td>\n",
       "    </tr>\n",
       "    <tr>\n",
       "      <th>1</th>\n",
       "      <td>2012-01-02</td>\n",
       "      <td>10.9</td>\n",
       "      <td>10.6</td>\n",
       "      <td>2.8</td>\n",
       "      <td>4.5</td>\n",
       "      <td>rain</td>\n",
       "    </tr>\n",
       "    <tr>\n",
       "      <th>2</th>\n",
       "      <td>2012-01-03</td>\n",
       "      <td>0.8</td>\n",
       "      <td>11.7</td>\n",
       "      <td>7.2</td>\n",
       "      <td>2.3</td>\n",
       "      <td>rain</td>\n",
       "    </tr>\n",
       "    <tr>\n",
       "      <th>3</th>\n",
       "      <td>2012-01-04</td>\n",
       "      <td>20.3</td>\n",
       "      <td>12.2</td>\n",
       "      <td>5.6</td>\n",
       "      <td>4.7</td>\n",
       "      <td>rain</td>\n",
       "    </tr>\n",
       "    <tr>\n",
       "      <th>4</th>\n",
       "      <td>2012-01-05</td>\n",
       "      <td>1.3</td>\n",
       "      <td>8.9</td>\n",
       "      <td>2.8</td>\n",
       "      <td>6.1</td>\n",
       "      <td>rain</td>\n",
       "    </tr>\n",
       "  </tbody>\n",
       "</table>\n",
       "</div>"
      ],
      "text/plain": [
       "        date  precipitation  temp_max  temp_min  wind  weather\n",
       "0 2012-01-01            0.0      12.8       5.0   4.7  drizzle\n",
       "1 2012-01-02           10.9      10.6       2.8   4.5     rain\n",
       "2 2012-01-03            0.8      11.7       7.2   2.3     rain\n",
       "3 2012-01-04           20.3      12.2       5.6   4.7     rain\n",
       "4 2012-01-05            1.3       8.9       2.8   6.1     rain"
      ]
     },
     "execution_count": 1,
     "metadata": {},
     "output_type": "execute_result"
    }
   ],
   "source": [
    "from vega_datasets import data\n",
    "\n",
    "weather = data.seattle_weather()\n",
    "weather.head()"
   ]
  },
  {
   "cell_type": "markdown",
   "id": "43b4125a",
   "metadata": {},
   "source": [
    "##### Question 1 (10 pts)\n",
    "\n",
    "Generate a data visualization to show the relationship between precipitation and max temperature.  "
   ]
  },
  {
   "cell_type": "code",
   "execution_count": null,
   "id": "bb6c5e11",
   "metadata": {},
   "outputs": [],
   "source": []
  },
  {
   "cell_type": "markdown",
   "id": "6c91a9ed",
   "metadata": {},
   "source": []
  },
  {
   "cell_type": "markdown",
   "id": "fa75a9b0",
   "metadata": {},
   "source": [
    "##### Question 2 (10 pts)\n",
    "\n",
    "Generate a data visualization to show the relationship between max temperature and weather type.  "
   ]
  },
  {
   "cell_type": "code",
   "execution_count": null,
   "id": "3579fbea",
   "metadata": {},
   "outputs": [],
   "source": []
  },
  {
   "cell_type": "markdown",
   "id": "00d7ca64",
   "metadata": {},
   "source": []
  },
  {
   "cell_type": "markdown",
   "id": "240be469",
   "metadata": {},
   "source": [
    "##### Question 3 (10 pts)\n",
    "\n",
    "Generate a data visualization to show the relationship between max temperature and min temperature, and then show different color for differnet weather type. "
   ]
  },
  {
   "cell_type": "code",
   "execution_count": null,
   "id": "fba7dd3a",
   "metadata": {},
   "outputs": [],
   "source": []
  },
  {
   "cell_type": "markdown",
   "id": "fba38dca",
   "metadata": {},
   "source": []
  },
  {
   "cell_type": "markdown",
   "id": "27ce6787",
   "metadata": {},
   "source": [
    "##### Question 4 (10 pts) \n",
    "\n",
    "Generate a data visualization to show the relationship between max temperature, min temperature and wind speed. "
   ]
  },
  {
   "cell_type": "code",
   "execution_count": null,
   "id": "392eb122",
   "metadata": {},
   "outputs": [],
   "source": []
  },
  {
   "cell_type": "markdown",
   "id": "6c46837e",
   "metadata": {},
   "source": []
  },
  {
   "cell_type": "markdown",
   "id": "901a2e9c-671c-4d1b-9906-f4ebc330a00d",
   "metadata": {},
   "source": [
    "##### Question 5 (10 pts)\n",
    "\n",
    "Calculate the average temperature for each day (average on min and max). Plot the average temperature with the date."
   ]
  },
  {
   "cell_type": "code",
   "execution_count": null,
   "id": "02bd5cb6-3492-40b2-9a10-9d93c23b4dd6",
   "metadata": {},
   "outputs": [],
   "source": []
  },
  {
   "cell_type": "markdown",
   "id": "8b0975ab-dc67-4088-853a-0fa22dd5ebb7",
   "metadata": {},
   "source": []
  }
 ],
 "metadata": {
  "kernelspec": {
   "display_name": "Python 3 (ipykernel)",
   "language": "python",
   "name": "python3"
  },
  "language_info": {
   "codemirror_mode": {
    "name": "ipython",
    "version": 3
   },
   "file_extension": ".py",
   "mimetype": "text/x-python",
   "name": "python",
   "nbconvert_exporter": "python",
   "pygments_lexer": "ipython3",
   "version": "3.11.7"
  }
 },
 "nbformat": 4,
 "nbformat_minor": 5
}
