{
 "cells": [
  {
   "cell_type": "markdown",
   "id": "a395f023-c515-4947-a786-b9140b7ce250",
   "metadata": {},
   "source": [
    "# DS4200 Homework 4\n",
    "\n",
    "Due: Friday Nov 15th @ 11:59 PM EST\n",
    "\n",
    "### Submission Instructions\n",
    "Submit this `ipynb` file included with the coding results to Gradescope (this can also be done via the assignment on Canvas).  To ensure that your submitted files represent your latest code, make sure to give a fresh `Kernel > Restart & Run All` just before uploading the files to gradescope.\n",
    "\n",
    "### Tips for success\n",
    "- Start early\n",
    "- Make use of Piazza\n",
    "- Make use of Office hour\n",
    "- Remember to use cells and headings to make the notebook easy to read (if a grader cannot find the answer to a problem, you will receive no points for it)\n",
    "- Under no circumstances may one student view or share their ungraded homework or quiz with another student [(see also)](http://www.northeastern.edu/osccr/academic-integrity), though you are welcome to **talk about** (not show each other) the problems."
   ]
  },
  {
   "cell_type": "markdown",
   "id": "b4847fe4-e2d8-465c-a50f-cfc606db2561",
   "metadata": {},
   "source": [
    "## Part 1: Altair interactive plots\n",
    "\n",
    "Gapminder is a non-profit organization that promotes global sustainable development and seeks to bridge the gap between misconceptions and data-driven understanding. We are going to explore the a small subset of its data with the information of average income, health score and population for each country in the world. The region information is also provided. "
   ]
  },
  {
   "cell_type": "code",
   "execution_count": 1,
   "id": "e4a851f1-8fed-44af-a17c-7be1e289f13b",
   "metadata": {},
   "outputs": [
    {
     "data": {
      "text/html": [
       "<div>\n",
       "<style scoped>\n",
       "    .dataframe tbody tr th:only-of-type {\n",
       "        vertical-align: middle;\n",
       "    }\n",
       "\n",
       "    .dataframe tbody tr th {\n",
       "        vertical-align: top;\n",
       "    }\n",
       "\n",
       "    .dataframe thead th {\n",
       "        text-align: right;\n",
       "    }\n",
       "</style>\n",
       "<table border=\"1\" class=\"dataframe\">\n",
       "  <thead>\n",
       "    <tr style=\"text-align: right;\">\n",
       "      <th></th>\n",
       "      <th>country</th>\n",
       "      <th>income</th>\n",
       "      <th>health</th>\n",
       "      <th>population</th>\n",
       "      <th>region</th>\n",
       "    </tr>\n",
       "  </thead>\n",
       "  <tbody>\n",
       "    <tr>\n",
       "      <th>0</th>\n",
       "      <td>Afghanistan</td>\n",
       "      <td>1925</td>\n",
       "      <td>57.63</td>\n",
       "      <td>32526562</td>\n",
       "      <td>south_asia</td>\n",
       "    </tr>\n",
       "    <tr>\n",
       "      <th>1</th>\n",
       "      <td>Albania</td>\n",
       "      <td>10620</td>\n",
       "      <td>76.00</td>\n",
       "      <td>2896679</td>\n",
       "      <td>europe_central_asia</td>\n",
       "    </tr>\n",
       "    <tr>\n",
       "      <th>2</th>\n",
       "      <td>Algeria</td>\n",
       "      <td>13434</td>\n",
       "      <td>76.50</td>\n",
       "      <td>39666519</td>\n",
       "      <td>middle_east_north_africa</td>\n",
       "    </tr>\n",
       "    <tr>\n",
       "      <th>3</th>\n",
       "      <td>Andorra</td>\n",
       "      <td>46577</td>\n",
       "      <td>84.10</td>\n",
       "      <td>70473</td>\n",
       "      <td>europe_central_asia</td>\n",
       "    </tr>\n",
       "    <tr>\n",
       "      <th>4</th>\n",
       "      <td>Angola</td>\n",
       "      <td>7615</td>\n",
       "      <td>61.00</td>\n",
       "      <td>25021974</td>\n",
       "      <td>sub_saharan_africa</td>\n",
       "    </tr>\n",
       "  </tbody>\n",
       "</table>\n",
       "</div>"
      ],
      "text/plain": [
       "       country  income  health  population                    region\n",
       "0  Afghanistan    1925   57.63    32526562                south_asia\n",
       "1      Albania   10620   76.00     2896679       europe_central_asia\n",
       "2      Algeria   13434   76.50    39666519  middle_east_north_africa\n",
       "3      Andorra   46577   84.10       70473       europe_central_asia\n",
       "4       Angola    7615   61.00    25021974        sub_saharan_africa"
      ]
     },
     "execution_count": 1,
     "metadata": {},
     "output_type": "execute_result"
    }
   ],
   "source": [
    "import altair as alt\n",
    "import pandas as pd\n",
    "\n",
    "gapminder = pd.read_csv('Gapminder Health Income.csv')\n",
    "gapminder.head()"
   ]
  },
  {
   "cell_type": "markdown",
   "id": "a865360c-ee71-4ef8-aa34-831046159233",
   "metadata": {},
   "source": [
    "### Part 1.1 Add selection (5 points)\n",
    "\n",
    "Make a scatter plot to show the relationship between average personal income and average health score. Please add tooltip to it to show the information about the country name and population. Also, allow the user to select a single country to highlight while all the other become light grey. "
   ]
  },
  {
   "cell_type": "code",
   "execution_count": 2,
   "id": "9f87686b-6788-414b-91c8-ecba778e4a03",
   "metadata": {},
   "outputs": [
    {
     "ename": "AttributeError",
     "evalue": "'function' object has no attribute 'encode'",
     "output_type": "error",
     "traceback": [
      "\u001b[0;31m---------------------------------------------------------------------------\u001b[0m",
      "\u001b[0;31mAttributeError\u001b[0m                            Traceback (most recent call last)",
      "\u001b[1;32m/Users/justin/Desktop/DS4200/hw3/DS4200/Homework 4.ipynb Cell 5\u001b[0m line \u001b[0;36m1\n\u001b[0;32m----> <a href='vscode-notebook-cell:/Users/justin/Desktop/DS4200/hw3/DS4200/Homework%204.ipynb#W4sZmlsZQ%3D%3D?line=0'>1</a>\u001b[0m scatter_plot \u001b[39m=\u001b[39m alt\u001b[39m.\u001b[39mChart(gapminder)\u001b[39m.\u001b[39mmark_point\u001b[39m.\u001b[39mencode(\n\u001b[1;32m      <a href='vscode-notebook-cell:/Users/justin/Desktop/DS4200/hw3/DS4200/Homework%204.ipynb#W4sZmlsZQ%3D%3D?line=1'>2</a>\u001b[0m     \n\u001b[1;32m      <a href='vscode-notebook-cell:/Users/justin/Desktop/DS4200/hw3/DS4200/Homework%204.ipynb#W4sZmlsZQ%3D%3D?line=2'>3</a>\u001b[0m )\n",
      "\u001b[0;31mAttributeError\u001b[0m: 'function' object has no attribute 'encode'"
     ]
    }
   ],
   "source": [
    "scatter_plot = alt.Chart(gapminder).mark_point.encode(\n",
    "    \n",
    ")"
   ]
  },
  {
   "cell_type": "markdown",
   "id": "17986ad2-b4b6-4c56-94ce-0c3c2441595c",
   "metadata": {},
   "source": [
    "### Part 1.2 Customize the color (10 points)\n",
    "\n",
    "Now choose a customized color map for the previous question. Explain how you choose the color map and apply it to the plot. "
   ]
  },
  {
   "cell_type": "code",
   "execution_count": null,
   "id": "5e894942-2641-44f8-b87d-be40be4d5c92",
   "metadata": {},
   "outputs": [],
   "source": []
  },
  {
   "cell_type": "markdown",
   "id": "0fe94f45-3a2b-4da4-9a03-6b7d5b6ca1f3",
   "metadata": {},
   "source": [
    "### Part 1.3 Select across multiple panels (5 points)\n",
    "\n",
    "Now add an interval selection such that the user can select over any income range, such that we can generate a second plot to show the relationship between income and population for the given range. "
   ]
  },
  {
   "cell_type": "code",
   "execution_count": null,
   "id": "bd744eba-8f2c-4abd-b124-ea6f664f3f8e",
   "metadata": {},
   "outputs": [],
   "source": []
  },
  {
   "cell_type": "markdown",
   "id": "ca463b50-e234-4895-b0f0-536114af6c55",
   "metadata": {},
   "source": [
    "### Part 1.4 Data binding (10 points)\n",
    "\n",
    "Instead of the using the legend, now include a radio button or the region such that each selection only highlights one region and make the other points to be grey. "
   ]
  },
  {
   "cell_type": "code",
   "execution_count": null,
   "id": "460f3805-4f18-4b67-af82-6a342a4186ed",
   "metadata": {},
   "outputs": [],
   "source": []
  },
  {
   "cell_type": "markdown",
   "id": "b8af68c5-df5a-4eb4-b257-dab3a76d0d6a",
   "metadata": {},
   "source": [
    "### Part 1.5 Add filter with bars (10 points)\n",
    "\n",
    "Add a slider bar such that for a given value on the bar, we only show the data such that the population of the country is less than the value. "
   ]
  },
  {
   "cell_type": "code",
   "execution_count": null,
   "id": "c750053e-ac1b-4138-9029-d1885f99c67a",
   "metadata": {},
   "outputs": [],
   "source": []
  },
  {
   "cell_type": "markdown",
   "id": "e8d5c88c",
   "metadata": {},
   "source": [
    "### Part 2 Explore the TX population and unemployment rate\n",
    "#### Part 2.1 Prepare the geospatial data (10 points)\n",
    "\n",
    "On Canvas, there is a csv file called \"unemp.csv\", which contains county-level information about unemployment rate and population. Use county level geo-spatial data provided in the lecture to merge two datasets. Then extract the part of data for Texas and make a map for Texas county. Only show the boundary for the counties. \n",
    "\n",
    "Note: Texas has 254 counties, more than any other U.S. state."
   ]
  },
  {
   "cell_type": "code",
   "execution_count": null,
   "id": "93bdd2b0-ba13-4e61-b027-b7e9ec5ef03d",
   "metadata": {},
   "outputs": [],
   "source": []
  },
  {
   "cell_type": "markdown",
   "id": "310c6fe2",
   "metadata": {},
   "source": [
    "#### Part 2.2 creating choropleth maps and customization (10 points)\n",
    "\n",
    "Make a choropleth maps with unemployment rate. Choose another color map from\n",
    "https://matplotlib.org/stable/users/explain/colors/colormaps.html. Give a title to the figure (use `plt.title`) as well as a title to the legend. \n"
   ]
  },
  {
   "cell_type": "code",
   "execution_count": null,
   "id": "a3bfd3cf-803e-4aa7-93aa-27915e2782e3",
   "metadata": {},
   "outputs": [],
   "source": []
  },
  {
   "cell_type": "markdown",
   "id": "f3a06ac5-7a90-43b4-8a6d-5fe71a12cb06",
   "metadata": {},
   "source": [
    "#### Part 2.3 Handle the missing values (15 points)\n",
    "\n",
    "Make a copy of your Texas data. Like what we have done in the lecture, randomly select 30 counties and set the unemployment rate as NaN. Plot the choropleth maps for the unemployment rate again. Define the color, boundary, and hatch pattern for the missing value areas. Also include a legend for the missing areas. Chooes a hatch pattern that is different from the lecture note from here: https://matplotlib.org/devdocs/gallery/shapes_and_collections/hatch_style_reference.html"
   ]
  },
  {
   "cell_type": "code",
   "execution_count": null,
   "id": "b71ee596-0dc2-444a-bef4-33e97ed8f2c9",
   "metadata": {},
   "outputs": [],
   "source": []
  },
  {
   "cell_type": "markdown",
   "id": "635b623b",
   "metadata": {},
   "source": [
    "#### Part 2.4 Multiple-layer plots (25 points)\n",
    "\n",
    "There is another attribute in the data which is called `pop`. This attributes represent the population in each county. This is a highly skewed attributed thus we first create a new attribute called `logpop`, which is the log of the population. Then make a map with two layers, one layer is the `logpop` and the second layer is `unemp`. Overlap both layers on the same map. Create one static figure and one interactive figure. In the interactive figure, the user should be able to select one or both layer to show and when they click the county, the information of population and unemployment rate are displayed. \n",
    "\n",
    "Note: You may need to create another copy of the data to show both layers. Also, you may need to add some transparency to the top layer so that the bottom layer can be seen. \n",
    "\n",
    "In the end, discuss how the overlapping colors and transparency factor affect people's understanding. "
   ]
  },
  {
   "cell_type": "code",
   "execution_count": null,
   "id": "d173b184-652d-4747-a4f9-7877fd1c482a",
   "metadata": {},
   "outputs": [],
   "source": []
  }
 ],
 "metadata": {
  "kernelspec": {
   "display_name": "Python 3 (ipykernel)",
   "language": "python",
   "name": "python3"
  },
  "language_info": {
   "codemirror_mode": {
    "name": "ipython",
    "version": 3
   },
   "file_extension": ".py",
   "mimetype": "text/x-python",
   "name": "python",
   "nbconvert_exporter": "python",
   "pygments_lexer": "ipython3",
   "version": "3.11.7"
  }
 },
 "nbformat": 4,
 "nbformat_minor": 5
}
